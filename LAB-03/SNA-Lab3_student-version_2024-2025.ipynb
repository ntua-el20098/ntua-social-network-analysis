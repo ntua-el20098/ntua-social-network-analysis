{
 "cells": [
  {
   "cell_type": "markdown",
   "id": "1f35580e",
   "metadata": {},
   "source": [
    "<html><font size=6><B>3η εργαστηριακή άσκηση</B><BR>\n",
    "    <BR><B>Link prediction - Πρόβλεψη συνδέσμων</B></BR>\n",
    "    </font></html>"
   ]
  },
  {
   "cell_type": "markdown",
   "id": "b30af479",
   "metadata": {},
   "source": [
    "<html><font size=4><B>1. Κατασκευή γράφου και υπολογισμός μετρικών</B></font>\n",
    "    <li><B>1(i).</B> Χρησιμοποιήστε το dataset <a href=\"http://konect.cc/networks/maayan-pdzbase/\"> KONECT (PDZBase) </a>, για να κατασκευάσετε τον μη κατευθυνόμενο (undirected) γράφο $G$. Οι κόμβοι του γράφου αναπαριστούν πρωτεΐνες και οι ακμές την αλληλεπίδραση αυτών. Στην σελίδα <a href=\"http://konect.cc/networks/maayan-pdzbase/\"> KONECT (PDZBase)</a> μπορείτε να βρείτε πληροφορίες για τις ιδιότητες του γράφου.</a><BR>\n",
    "        <B><U>Υπόδειξη:</U></B> Μπορείτε να ελέγξετε προγραμματιστικά αν το dataset περιέχει διπλότυπα των ακμών με την ίδια ή αντίστροφη σειρά (π.χ. ακμές (a,b) και (b,a)), και να λάβετε υπ' όψιν σας αυτήν σας την παρατήρηση, όπου τυχόν χρειαστεί.<BR></html>"
   ]
  },
  {
   "cell_type": "markdown",
   "id": "4bd79bac",
   "metadata": {},
   "source": [
    " <li><B>1(ii).</B> Εμφανίστε τον αριθμό των κόμβων, τον αριθμό των ακμών, τον μέσο βαθμό των κόμβων και τον αριθμό των συνεκτικών συνιστωσών (connected components) για τον γράφο $G$.</li><BR>"
   ]
  },
  {
   "cell_type": "code",
   "execution_count": 1,
   "id": "9277a4e2",
   "metadata": {},
   "outputs": [],
   "source": [
    "#initial_node_count=           #uncomment and complete\n",
    "#initial_connected_components= #uncomment and complete"
   ]
  },
  {
   "cell_type": "markdown",
   "id": "bf03f6b9",
   "metadata": {},
   "source": [
    "<li><B>2 Προεργασία για την πρόβλεψη συνδέσμων. 2(i). </B>Υπολογίστε το σύνολο των ασύνδετων ζευγών κόμβων (unconnected pairs) στον γράφο χρησιμοποιώντας τον πίνακα γειτνίασης (adjacency matrix). Δώστε επίσης τον αριθμό τους. Λάβετε υπ' όψιν σας ότι ο γράφος είναι μη κατευθυνόμενος και δεν χρειάζεται να διατρέξετε ολόκληρο τον πίνακα γειτνίασης.</li><BR>"
   ]
  },
  {
   "cell_type": "markdown",
   "id": "154c2a8d",
   "metadata": {},
   "source": [
    "<li><B>2(ii).</B> Υπολογίστε το σύνολο των ακμών (removable edges) που μπορούν να αφαιρεθούν από τον γράφο χωρίς να υπάρχει κατάτμηση (splitting) του γράφου (δηλ. ο αριθμός των συνεκτικών συνιστωσών θα πρέπει να παραμένει αμετάβλητος). Υπόδειξη: Ελέγχετε επίσης ότι με αφαίρεση ακμής δεν μειώνεται ο αριθμός των κόμβων (εφόσον δεν υπάρχει ξεχωριστό αρχείο μόνο με κόμβους στο dataset). Δώστε επίσης τον αριθμό των ακμών (removable edges) που μπορούν να αφαιρεθούν υπό αυτές τις προϋποθέσεις.</li><BR>"
   ]
  },
  {
   "cell_type": "code",
   "execution_count": 1,
   "id": "b39c2241",
   "metadata": {},
   "outputs": [],
   "source": [
    "# removable edges: check splitting and number of nodes\n",
    "#if ( == initial_connected_components) and ( == initial_node_count): #uncomment and complete (modifications allowed)"
   ]
  },
  {
   "cell_type": "markdown",
   "id": "eb03d745",
   "metadata": {},
   "source": [
    "<li><B>2(iii).</B> Κατασκευάστε dataframe που συνενώνει τις απαντήσεις των ερωτημάτων 2(i) και 2(ii) (unconnected+removables). Χρησιμοποιήστε την μεταβλητή $link$ που θα παίρνει τιμή 1 ή 0 ανάλογα με την ύπαρξη συνδέσμου ή μη. To dataframe αυτό συγκεντρώνει τα θετικά και αρνητικά δείγματα για την πρόβλεψη των μελλοντικών συνδέσεων (link: target variable). <BR>\n",
    "    <li><B>2(iv).</B> Κατασκευάστε τον γράφο $G'$ που προκύπτει από την αφαίρεση από τον γράφο $G$ των ακμών του ερωτήματος 2(ii). <BR>\n",
    "    <li><B>2(v).</B> Εμφανίστε τον αριθμό των κόμβων, τον αριθμό των ακμών, τον μέσο βαθμό των κόμβων και τον αριθμό των συνεκτικών συνιστωσών (connected components) για τον γράφο $G'$.</li><BR>"
   ]
  },
  {
   "cell_type": "code",
   "execution_count": 2,
   "id": "cb033fc0",
   "metadata": {},
   "outputs": [],
   "source": [
    "#dataframe of removable edges (they will function as positive samples)\n",
    "#...['link'] = 1  #uncomment and complete\n",
    "\n",
    "#dataframe of unconnected node pairs (they will function as negative samples)\n",
    "#...['link'] = 0 # uncomment and complete\n",
    "\n",
    "#merge in one dataframe\n",
    "\n",
    "#build graph G'=G_reduced"
   ]
  },
  {
   "cell_type": "markdown",
   "id": "f4c43988",
   "metadata": {},
   "source": [
    "<html><font size=4><B>3. Πρόβλεψη συνδέσμων με embedding βασισμένο σε τυχαίους περιπάτους (Random Walks) </B></font><BR><BR>\n",
    "    <li><B>3(i).</B> Εξάγετε τα χαρακτηριστικά (features) του γράφου $G'$, που προέκυψε από την αφαίρεση των ακμών. Για τον σκοπό αυτό χρησιμοποιήστε τον αλγόριθμο <B>Node2vec</B>. Ο αλγόριθμος αντιστοιχίζει τους κόμβους του γράφου μέσω τυχαίων περιπάτων (biased 2nd order random walks) σε ένα χώρο μικρού αριθμού διαστάσεων (low dimensional space) διατηρώντας την μεταξύ τους γειτνίαση.\n",
    "        <BR>Για την επιλογή των παραμέτρων: \n",
    "            <li>p - παράμετρος τυχαίων περιπάτων p που καθορίζει την πιθανότητα “1/p” επιστροφής στον κόμβο προέλευσης (source node), </li>\n",
    "                <li>q - παράμετρος τυχαίων περιπάτων q που καθορίζει την πιθανότητα  “1/q” μετακίνησης σε κόμβο μακριά από τον κόμβο προέλευσης (source node), </li>\n",
    "                 <li>dimensions - πλήθος διαστάσεων των Node2Vec embeddings, </li>\n",
    "                     <li>num_walks - αριθμός περιπάτων από κάθε κόμβο, </li>\n",
    "                         <li>walk_length - μήκος τυχαίου περιπάτου, </li>\n",
    "                             <li>window_size - μέγεθος παραθύρου context για τον αλγόριθμο Word2Vec, </li><li>num_iter - αριθμός SGD επαναλήψεων (epochs), </li>\n",
    "            <li>workers - αριθμός workers για τον Word2Vec,</li>\n",
    "            χρησιμοποιήστε τις τιμές:   </html>\n",
    "   \n",
    "                   "
   ]
  },
  {
   "cell_type": "markdown",
   "id": "fdbc5274",
   "metadata": {},
   "source": [
    " |   p   |   q   | dimensions|  num_walks  |walk_length |window_size|        workers            |\n",
    " |-------|-------|-----------|-------------|------------|-----------|---------------------------|\n",
    " |  1.0  |  1.0  |  128      |     10      |    80      |     10    |multiprocessing.cpu_count()|"
   ]
  },
  {
   "cell_type": "code",
   "execution_count": 3,
   "id": "aa8e668d",
   "metadata": {},
   "outputs": [],
   "source": [
    "#install node2vec with conda / pip\n",
    "#from node2vec import Node2Vec   #uncomment\n",
    "#import multiprocessing          #uncomment\n",
    "\n",
    "#generate walks\n",
    "#node2vec_walker = Node2Vec(, , , , , , ) #uncomment and complete\n",
    "\n",
    "#train node2vec model\n",
    "#n2v_model = node2vec_walker.fit(window= , min_count=1) #uncomment and complete"
   ]
  },
  {
   "cell_type": "markdown",
   "id": "294f0aab",
   "metadata": {},
   "source": [
    "<html><font>\n",
    "    <li><B>3(ii).</B> Εφαρμόστε τον αλγόριθμο Random Forest Classifier, για να προβλέψετε τις συνδέσεις.</li><BR>\n",
    "    <li><B>3(iii).</B> Υπολογίστε την ακρίβεια ($accuracy$) του μοντέλου. </li><BR></font></html>"
   ]
  },
  {
   "cell_type": "code",
   "execution_count": 4,
   "id": "6269b89a",
   "metadata": {},
   "outputs": [],
   "source": [
    "#apply trained Node2Vec model on each node pair of the dataframe \"unconnected+removables\"\n",
    "#uncomment:\n",
    "#x = [(n2v_model.wv[str(i)]+n2v_model.wv[str(j)]) for i,j in zip(df_with_target_var['node_1'], df_with_target_var['node_2'])]"
   ]
  },
  {
   "cell_type": "code",
   "execution_count": 5,
   "id": "b74e7aa7",
   "metadata": {},
   "outputs": [],
   "source": [
    "#X_train, X_test, y_train, y_test = train_test_split(, , random_state = 0)  #uncomment and complete"
   ]
  },
  {
   "cell_type": "code",
   "execution_count": 6,
   "id": "e75cfde7",
   "metadata": {},
   "outputs": [],
   "source": [
    "#uncomment whole cell\n",
    "#from sklearn.ensemble import RandomForestClassifier\n",
    "#from sklearn.metrics import accuracy_score\n",
    "\n",
    "#classifier = RandomForestClassifier(max_depth=2, random_state=0) \n",
    "#classifier.fit()   #uncomment and complete"
   ]
  },
  {
   "cell_type": "code",
   "execution_count": null,
   "id": "89f16b76",
   "metadata": {},
   "outputs": [],
   "source": []
  },
  {
   "cell_type": "code",
   "execution_count": null,
   "id": "f9c315c1",
   "metadata": {},
   "outputs": [],
   "source": []
  }
 ],
 "metadata": {
  "kernelspec": {
   "display_name": "Python 3",
   "language": "python",
   "name": "python3"
  },
  "language_info": {
   "codemirror_mode": {
    "name": "ipython",
    "version": 3
   },
   "file_extension": ".py",
   "mimetype": "text/x-python",
   "name": "python",
   "nbconvert_exporter": "python",
   "pygments_lexer": "ipython3",
   "version": "3.8.8"
  }
 },
 "nbformat": 4,
 "nbformat_minor": 5
}
