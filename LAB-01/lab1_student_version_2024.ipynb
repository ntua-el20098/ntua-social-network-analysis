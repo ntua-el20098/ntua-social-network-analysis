{
 "cells": [
  {
   "cell_type": "markdown",
   "metadata": {},
   "source": [
    "# 1<sup>η</sup> Εργαστηριακή Άσκηση\n",
    "## Ανάλυση & Μελέτη Σύνθετων Τοπολογιών Δικτύου"
   ]
  },
  {
   "cell_type": "markdown",
   "metadata": {},
   "source": [
    "<p style='text-align: justify;'> Στην παρούσα άσκηση θα δημιουργηθούν και θα αναλυθούν τοπολογίες, ορισμένες από τις οποίες χρησιμοποιούνται για την αναπαράσταση σύνθετων ή/και κοινωνικών δικτύων. Η ανάλυση θα γίνει μέσω των μετρικών ανάλυσης που παρουσιάστηκαν στις διαλέξεις του μαθήματος. Τα δίκτυα που θα μελετηθούν δίνονται στον Πίνακα 1.</p>"
   ]
  },
  {
   "cell_type": "markdown",
   "metadata": {},
   "source": [
    "<table width=\"80%\">\n",
    "    <caption>Πίνακας $1$: Σύνθετα δίκτυα και χαρακτηριστικές παράμετροι</caption>\n",
    "    <thead>\n",
    "    <tr>\n",
    "        <th>Τύπος Δικτύου</th>\n",
    "        <th>Μοντέλο</th>\n",
    "        <th>Αναγνωριστικό</th>\n",
    "        <th>Παράμετροι</th>\n",
    "    </tr>\n",
    "    </thead>\n",
    "    <tbody>\n",
    "        <tr>\n",
    "            <td style=\"background-color:#F2F4F7\" rowspan=\"2\">Πλέγμα</td>\n",
    "            <td style=\"background-color:#F2F4F7\" rowspan=\"2\">Πεπερασμένο</td>\n",
    "            <td style=\"background-color:#F2F4F7\" rowspan=\"2\">REG</td>\n",
    "            <td style=\"background-color:#F2F4F7\">Κόμβοι $n$</td>   \n",
    "        </tr>\n",
    "        <tr>\n",
    "            <td style=\"background-color:#F2F4F7\">Bαθμός $d$</td>\n",
    "        </tr>\n",
    "        <tr>\n",
    "            <td style=\"background-color:#FFFFFF\" rowspan=\"2\">Τυχαίος γραφος</td>\n",
    "            <td style=\"background-color:#FFFFFF\" rowspan=\"2\">Erdos-Renyi</td>\n",
    "            <td style=\"background-color:#FFFFFF\" rowspan=\"2\">RG (ER)</td>\n",
    "            <td style=\"background-color:#FFFFFF\">Κόμβοι $n$</td>   \n",
    "        </tr>\n",
    "        <tr>\n",
    "            <td style=\"background-color:#FFFFFF\">Συνδέσεις $M$</td>\n",
    "        </tr>\n",
    "        <tr>\n",
    "            <td style=\"background-color:#F2F4F7\" rowspan=\"2\">Τυχαίος γράφος</td>\n",
    "            <td style=\"background-color:#F2F4F7\" rowspan=\"2\">Gilbert</td>\n",
    "            <td style=\"background-color:#F2F4F7\" rowspan=\"2\">RG (G)</td>\n",
    "            <td style=\"background-color:#F2F4F7\">Κόμβοι $n$</td>   \n",
    "        </tr>\n",
    "        <tr>\n",
    "            <td style=\"background-color:#F2F4F7\">Πιθανότητα σύνδεσης $p$</td>\n",
    "        </tr>\n",
    "        <tr>\n",
    "            <td style=\"background-color:#FFFFFF\" rowspan=\"3\">Τυχαίος γεωμετρικός γράφος</td>\n",
    "            <td style=\"background-color:#FFFFFF\" rowspan=\"3\">Επίπεδος</td>\n",
    "            <td style=\"background-color:#FFFFFF\" rowspan=\"3\">RGG</td> \n",
    "        </tr>\n",
    "        <tr>\n",
    "            <td style=\"background-color:#FFFFFF\" >Ακτίνα $R$</td>\n",
    "        </tr>\n",
    "        <tr>\n",
    "            <td style=\"background-color:#FFFFFF\">Κόμβοι $n$</td>  \n",
    "        </tr>\n",
    "        <tr>\n",
    "            <td style=\"background-color:#F2F4F7\" rowspan=\"2\">Scale-free</td>\n",
    "            <td style=\"background-color:#F2F4F7\" rowspan=\"2\">Barabasi-Albert</td>\n",
    "            <td style=\"background-color:#F2F4F7\" rowspan=\"2\">SF (BA)</td>\n",
    "            <td style=\"background-color:#F2F4F7\">Κόμβοι $n$</td>   \n",
    "        </tr>\n",
    "        <tr>\n",
    "            <td style=\"background-color:#F2F4F7\">Παράμετρος επισύναψης $d$</td>\n",
    "        </tr>\n",
    "        <tr>\n",
    "            <td style=\"background-color:#FFFFFF\" rowspan=\"3\">Small-world</td>\n",
    "            <td style=\"background-color:#FFFFFF\" rowspan=\"3\">Watts-Strogatz</td>\n",
    "            <td style=\"background-color:#FFFFFF\" rowspan=\"3\">SW (WS)</td>\n",
    "            <td style=\"background-color:#FFFFFF\">Κόμβοι $n$ </td>   \n",
    "        </tr>\n",
    "        <tr>\n",
    "            <td style=\"background-color:#FFFFFF\" >Βαθμός αρχικού πλέγματος $d$</td>\n",
    "        </tr>\n",
    "        <tr>\n",
    "            <td style=\"background-color:#FFFFFF\">Πιθανότητα ανασύνδεσης $g_p$</td>  \n",
    "        </tr>\n",
    "    </tbody>\n",
    "</table>"
   ]
  },
  {
   "cell_type": "code",
   "execution_count": 32,
   "metadata": {},
   "outputs": [],
   "source": [
    "seedno=600    #seed number !DO NOT CHANGE IT!"
   ]
  },
  {
   "cell_type": "code",
   "execution_count": 33,
   "metadata": {},
   "outputs": [],
   "source": [
    "%matplotlib inline\n",
    "import matplotlib\n",
    "import networkx as nx\n",
    "import matplotlib.pyplot as plt\n",
    "import numpy as np\n",
    "import random"
   ]
  },
  {
   "cell_type": "markdown",
   "metadata": {},
   "source": [
    "### Α) Κατασκευή και οπτικοποίηση σύνθετων τύπων δικτύου"
   ]
  },
  {
   "cell_type": "markdown",
   "metadata": {},
   "source": [
    "### Τοπολογία REG για βαθμό πλέγματος $d = 4$"
   ]
  },
  {
   "cell_type": "code",
   "execution_count": 34,
   "metadata": {},
   "outputs": [],
   "source": [
    "random.seed(seedno)\n",
    "#n=4x μέγεθος δικτύου: αντικαταστήστε το x με το τελευταίο ψηφίο του αριθμού μητρώου σας.\n",
    "d=4\n",
    "# για την κατασκευή του REG χρησιμοποιήστε την watts_strogatz_graph από το networkx. \n",
    "# Επιλέξτε προσεκτικά την τιμή της παραμέτρου p. \n",
    "#uncomment REG= \n",
    "\n",
    "#οπτικοποίηση: χρησιμοποιήστε την draw_circular από το networkx"
   ]
  },
  {
   "cell_type": "markdown",
   "metadata": {},
   "source": [
    "### Τοπολογία RG (ER) για αριθμό συνδέσεων $M = 150$"
   ]
  },
  {
   "cell_type": "code",
   "execution_count": 35,
   "metadata": {},
   "outputs": [],
   "source": [
    "random.seed(seedno)\n",
    "#n=4x \n",
    "M = 150\n",
    "\n",
    "# για την κατασκευή του RGER χρησιμοποιήστε την gnm_random_graph από το networkx\n",
    "#uncomment RGER= \n",
    "\n",
    "# οπτικοποίηση: χρησιμοποιήστε την draw_circular από το networkx"
   ]
  },
  {
   "cell_type": "markdown",
   "metadata": {},
   "source": [
    "### Τοπολογία RGG  με ακτίνα σύνδεσης $R=0.35$"
   ]
  },
  {
   "cell_type": "code",
   "execution_count": 36,
   "metadata": {},
   "outputs": [],
   "source": [
    "random.seed(seedno)\n",
    "#n=4x\n",
    "R=0.35\n",
    "\n",
    "# για την κατασκευή του RGG χρησιμοποιήστε την random_geometric_graph από το networkx\n",
    "#uncomment RGG=\n",
    "\n",
    "#οπτικοποίηση: https://networkx.org/documentation/stable/auto_examples/drawing/plot_random_geometric_graph.html\n"
   ]
  },
  {
   "cell_type": "markdown",
   "metadata": {},
   "source": [
    "### Τοπολογία SF με παράμετρο επισύναψης $d=4$"
   ]
  },
  {
   "cell_type": "code",
   "execution_count": 37,
   "metadata": {},
   "outputs": [],
   "source": [
    "random.seed(seedno)\n",
    "#n=4x \n",
    "d=4\n",
    "\n",
    "# για την κατασκευή του SF χρησιμοποιήστε την barabasi_albert_graph από το networkx\n",
    "#uncomment SF= \n",
    "\n",
    "#οπτικοποίηση: χρησιμοποιήστε την draw_circular από το networkx"
   ]
  },
  {
   "cell_type": "markdown",
   "metadata": {},
   "source": [
    "### Τοπολογία SW με βαθμό αρχικού πλέγματος $d=4$ και πιθανότητα ανασύνδεσης $p=0.25$"
   ]
  },
  {
   "cell_type": "code",
   "execution_count": 38,
   "metadata": {},
   "outputs": [],
   "source": [
    "random.seed(seedno)\n",
    "#n=4x\n",
    "d=4\n",
    "p=0.25\n",
    "\n",
    "# για την κατασκευή του SW χρησιμοποιήστε την watts_strogatz_graph από το networkx. \n",
    "#uncomment SW= \n",
    "\n",
    "#οπτικοποίηση: χρησιμοποιήστε την draw_circular από το networkx"
   ]
  },
  {
   "cell_type": "markdown",
   "metadata": {},
   "source": [
    "### B) Μετρικές δικτύου"
   ]
  },
  {
   "cell_type": "markdown",
   "metadata": {},
   "source": [
    "### B1. Συντελεστής ομαδοποίησης (Clustering coefficient)"
   ]
  },
  {
   "cell_type": "markdown",
   "metadata": {},
   "source": [
    "#### Για κάθε μια από τις τοπολογίες REG, RG(ER), RGG, SF(BA) και SW(WS):\n",
    "#### Β1.1 Να υπολογιστεί ο συντελεστής ομαδοποίησης κάθε κόμβου και να αναπαρασταθεί η κατανομή του.\n",
    "#### Β1.2  Να υπολογιστεί ο μέσος συντελεστής ομαδοποίησης και η διασπορά του.\n",
    "#### Β.1.3 Να βρεθούν οι κόμβοι με το μικρότερο και το μεγαλύτερο συντελεστή ομαδοποίησης. \n",
    "#### Να σχολιαστούν τα αποτελέσματα."
   ]
  },
  {
   "cell_type": "code",
   "execution_count": 39,
   "metadata": {},
   "outputs": [],
   "source": [
    "def cc(G):\n",
    "    pass"
   ]
  },
  {
   "cell_type": "markdown",
   "metadata": {},
   "source": [
    "### Β2. Μέσο μήκος μονοπατιού - Διάμετρος - Ακτίνα γράφου"
   ]
  },
  {
   "cell_type": "markdown",
   "metadata": {},
   "source": [
    "#### Για κάθε μια από τις τοπολογίες REG, RG(ER), RGG, SF(BA) και SW(WS):\n",
    "#### Β2.1 Nα υπολογιστεί το μέσο μήκος μονοπατιού και η διασπορά του. Προτείνεται η χρήση της συνάρτησης  all_pairs_shortest_path_length του networkx.\n",
    "#### B2.2 Να υπολογιστεί η διάμετρος (συνάρτηση diameter) και η ακτίνα (συνάρτηση radius).\n",
    "#### Για τα παραπάνω πραγματοποιήστε συγκρίσεις και εξηγήστε με βάση τα χαρακτηριστικά της κάθε τοπολογίας όπως παρουσιάζονται στη θεωρία."
   ]
  },
  {
   "cell_type": "code",
   "execution_count": 40,
   "metadata": {},
   "outputs": [],
   "source": [
    "def compute_path_lengths(G):\n",
    "    pass"
   ]
  },
  {
   "cell_type": "markdown",
   "metadata": {},
   "source": [
    "#### B.2.3 Για κάθε τοπολογία, ποιος κόμβος συνδέεται με τους περισσότερους κόμβους με μήκος ελάχιστου μονοπατιού ίσο με τη διάμετρο της τοπολογίας?"
   ]
  },
  {
   "cell_type": "code",
   "execution_count": 41,
   "metadata": {},
   "outputs": [],
   "source": [
    "def find_nodes(G):\n",
    "    pass"
   ]
  },
  {
   "cell_type": "code",
   "execution_count": 42,
   "metadata": {},
   "outputs": [],
   "source": [
    "# να προσδιοριστεί το label του κόμβου και το σύνολο των κόμβων \n",
    "# με τους οποίους συνδέεται με μήκος ελάχιστου μονοπατιού ΄ίσο με τη διάμετρο. "
   ]
  },
  {
   "cell_type": "markdown",
   "metadata": {},
   "source": [
    "#### Περιφέρεια του γράφου ορίζεται να είναι το σύνολο των κόμβων του που έχουν εκκεντρότητα ίση με τη διάμετρό του. \n",
    "#### Κέντρο του γράφου ορίζεται να είναι το σύνολο των κόμβων του που έχουν εκκεντρότητα ίση με την ακτίνα του.  \n",
    "#### Β.2.4 Για κάθε τοπολογία, να βρεθεί η περιφέρεια και το κέντρο της και να σχολιαστούν τα αποτελέσματα."
   ]
  },
  {
   "cell_type": "code",
   "execution_count": 43,
   "metadata": {},
   "outputs": [],
   "source": [
    "def find_periphery(G):\n",
    "    pass"
   ]
  },
  {
   "cell_type": "code",
   "execution_count": 44,
   "metadata": {},
   "outputs": [],
   "source": [
    "def find_center(G):\n",
    "    pass"
   ]
  },
  {
   "cell_type": "markdown",
   "metadata": {},
   "source": [
    "## Γ) Mετρικές κεντρικότητας κόμβων"
   ]
  },
  {
   "cell_type": "markdown",
   "metadata": {},
   "source": [
    "### Γ1. Κεντρικότητα βαθμού (Degree centrality)\n",
    "##### Γ1.1 Να αναπαρασταθεί η κατατανομή βαθμών κόμβων για κάθε τοπολογία.\n",
    "##### Γ1.2 Να υπολογιστεί ο μέσος βαθμός κόμβου καθώς και η διασπορά των βαθμών κόμβου για κάθε τοπολογία.\n",
    "##### Να σχολιαστούν τα αποτελέσματα."
   ]
  },
  {
   "cell_type": "code",
   "execution_count": 45,
   "metadata": {},
   "outputs": [],
   "source": [
    "def find_degree(G):\n",
    "    pass"
   ]
  },
  {
   "cell_type": "markdown",
   "metadata": {},
   "source": [
    "### Γ2. Κεντρικότητα εγγύτητας (Closeness centrality)\n",
    "##### Γ2.1 Να αναπαρασταθεί η κατατανομή της εγγύτητας κόμβων για κάθε τοπολογία.\n",
    "##### Γ2.2 Να υπολογιστεί η μέση εγγύτητα καθώς και η διασπορά της για κάθε τοπολογία.\n",
    "##### Να σχολιαστούν τα αποτελέσματα."
   ]
  },
  {
   "cell_type": "code",
   "execution_count": 46,
   "metadata": {},
   "outputs": [],
   "source": [
    "def find_closeness(G):\n",
    "    pass"
   ]
  },
  {
   "cell_type": "markdown",
   "metadata": {},
   "source": [
    "### Γ3. Ενδιαμεσική κεντρικότητα (Betweenness centrality)\n",
    "##### Γ3.1 Να αναπαρασταθεί η κατατανομή της ενδιαμεσικής κεντρικότητας κόμβων για κάθε τοπολογία.\n",
    "##### Γ3.2 Να υπολογιστεί η μέση ενδιαμεσική κεντρικότητα καθώς και η διασπορά της για κάθε τοπολογία.\n",
    "##### Να σχολιαστούν τα αποτελέσματα."
   ]
  },
  {
   "cell_type": "code",
   "execution_count": 47,
   "metadata": {},
   "outputs": [],
   "source": [
    "def find_betweenness(G):\n",
    "    pass"
   ]
  },
  {
   "cell_type": "markdown",
   "metadata": {},
   "source": [
    "### Γ4. Kεντρικότητα Katz\n",
    "#### Γ4.1 Να αναπαρασταθεί η κατανομή της κεντρικότητας Katz των κόμβων για κάθε τοπολογία. \n",
    "Για τον προσδιορισμό της παραμέτρου $alpha$ της συνάρτησης katz_centrality,  να υπολογιστεί η μεγαλύτερη ιδιοτιμή $λ_{max}$ του πίνακα γειτνίασης με τη συνάρτηση adjacency_spectrum του networkx. \n",
    "H $alpha$ ορίζεται να είναι ιση με $\\frac{1}{λ_{max}}-0.01$.\n",
    "#### Γ4.2 Να υπολογιστεί η μέση  κεντρικότητα Katz  καθώς και η διασπορά της για κάθε τοπολογία.\n",
    "#### Να σχολιαστούν τα αποτελέσματα."
   ]
  },
  {
   "cell_type": "code",
   "execution_count": 48,
   "metadata": {},
   "outputs": [],
   "source": [
    "def find_katz(G):\n",
    "    pass"
   ]
  },
  {
   "cell_type": "markdown",
   "metadata": {},
   "source": [
    "#### Να προσδιοριστούν, για κάθε τοπολογία, οι πιο κεντρικοί κόμβοι ως προς το βαθμό, την εγγύτητα, την ενδιαμεσική κεντρικότητα και την κεντρικότητα Katz. Να σχολιαστούν τα αποτελέσματα."
   ]
  },
  {
   "cell_type": "code",
   "execution_count": 49,
   "metadata": {},
   "outputs": [],
   "source": [
    "def find_central(G):\n",
    "    pass"
   ]
  },
  {
   "cell_type": "markdown",
   "metadata": {},
   "source": [
    "### Γ5.  Κεντρικότητα Pagerank \n",
    "#### Γ5.1 Να γίνει ανάλυση στο κατευθυνόμενο δίκτυο Web Google του οποίου οι ακμές δίνονται στο αρχείο web_Google.txt. Περισσότερες πληροφορίες για το dataset δίνονται στο link https://snap.stanford.edu/data/web-Google.html .\n",
    "##### Να υπολογιστούν τα ακόλουθα\n",
    "<ol>\n",
    "<li>Ο αριθμός των κόμβων του γράφου</li>\n",
    "<li>Ο αριθμός των κόμβων του γράφου με self-edge, δηλαδή ο αριθμός των κόμβων a ∈V  όπου (a,a) ∈Ε</li>\n",
    "<li>Ο αριθμός των κατευθυνόμενων ακμών του γράφου, δηλαδή ο αριθμός των ταξινομημένων ζευγαριών  (a,b) ∈Ε με a≠b</li>\n",
    "<li>Ο αριθμός των αμφίδρομων ακμών του γράφου, δηλαδή  ο αριθμός των μοναδικών μη ταξινομημένων ζευγαριών (a,b) ∈Ε με a≠b για τα οποία (a,b) ∈Ε και (b,a) ∈Ε.</li>\n",
    "<li>Ο αριθμός των κόμβων με μηδενικό out-degree</li>\n",
    "<li>Ο αριθμός των κόμβων με μηδενικό in-degree</li>\n",
    "<li>Ο αριθμός των κόμβων με out-degree >10</li>\n",
    "<li>Ο αριθμός των κόμβων με in-degree >10</li>\n",
    "</ol>"
   ]
  },
  {
   "cell_type": "code",
   "execution_count": 50,
   "metadata": {},
   "outputs": [],
   "source": [
    "#uncomment G_web=nx.read_edgelist(\"Web-Google.txt\",create_using=nx.DiGraph())"
   ]
  },
  {
   "cell_type": "code",
   "execution_count": 51,
   "metadata": {},
   "outputs": [],
   "source": [
    "#out_degree \n",
    "#in_degree"
   ]
  },
  {
   "cell_type": "markdown",
   "metadata": {},
   "source": [
    "#### Γ5.2 Αλγόριθμος Pagerank \n",
    "<ol><li> Να εκτελεστεί ο αλγόριθμος pagerank στον υπογράφο που προκύπτει από την 6η μεγαλύτερη σε μέγεθος συνδεδεμένη συνοστώσα (index=5) του κατευθυνόμενου δικτύου Web Google. </li>\n",
    "<li>Να σχεδιαστεί ο κατευθυνόμενος υπογράφος. Στην απεικόνιση το μέγεθος κάθε κόμβου να είναι ανάλογο του Pagerank score του κόμβου. </li>\n",
    "<li>Να απεικονιστεί η κατανομή του in-degree του συνολικού γράφου καθώς και του υπογράφου και να σχολιαστούν συγκριτικά τα αποτελέσματα.</li>\n",
    "    </ol>"
   ]
  },
  {
   "cell_type": "code",
   "execution_count": 52,
   "metadata": {},
   "outputs": [],
   "source": [
    "#use weakly_connected_components of networkx \n",
    "#pagerank"
   ]
  },
  {
   "cell_type": "markdown",
   "metadata": {},
   "source": [
    "### Δ) Μελέτη ευρωστίας δικτύου"
   ]
  },
  {
   "cell_type": "markdown",
   "metadata": {},
   "source": [
    "#### Για κάθε μια από τις τοπολογίες REG, RG(ER), RGG, SF(BA) και SW(WS) που εξετάστηκαν στις ενότητες Β και Γ, να υπολογιστεί με τη συνάρτηση minimum_node_cut ο ελάχιστος αριθμός κόμβων που πρέπει να αφαιρεθούν για να προκύψει μη συνδεδεμένο δίκτυο. \n",
    "#### Να σχολιαστούν τα αποτελέσματα."
   ]
  },
  {
   "cell_type": "code",
   "execution_count": 53,
   "metadata": {},
   "outputs": [],
   "source": [
    "def find_cut(G):\n",
    "    pass"
   ]
  },
  {
   "cell_type": "markdown",
   "metadata": {},
   "source": [
    "### E) Μελέτη της εξελικτικής μετατροπής δικτύου REG σε δίκτυο SW και RGER"
   ]
  },
  {
   "cell_type": "markdown",
   "metadata": {},
   "source": [
    "##### Μεταβάλλοντας την παράμετρο $g_p$ από $0$ έως $1$ με βήμα $0.1$της συνάρτησης που κατασκευάζει τοπολογίες SW μεγέθους $n=30x$ ( αντικαταστήστε το x με το τελευταίο ψηφίο του ΑΜ) με βαθμό αρχικού πλέγματος $d=4$, να βρείτε το μέσο μήκος μονοπατιού και το μέσο συντελεστή ομαδοποίησης. Πώς συμπεριφέρεται το παραγόμενο δίκτυο για $g_p = 0$, πώς για $g_p = 1$ και πώς για ενδιάμεσες τιμές $g_p \\simeq 0.1 - 0.5$;"
   ]
  },
  {
   "cell_type": "code",
   "execution_count": 54,
   "metadata": {},
   "outputs": [],
   "source": [
    "random.seed(seedno)\n",
    "#n=30x\n",
    "d=4"
   ]
  },
  {
   "cell_type": "markdown",
   "metadata": {},
   "source": [
    "### Z) Αναγνώριση τύπου πραγματικού δικτύου \n",
    "##### Για το πραγματικό δίκτυο που δίνεται στο αρχείο got.txt  και αφορά στις αλληλεπιδράσεις των χαρακτήρων του Game of Thrones στον πρώτο κύκλο επεισοδίων (https://github.com/mathbeveridge/gameofthrones) να βρεθούν:</p>\n",
    "<ol>\n",
    "    <li>Η κατανομή του βαθμού κόμβου και ο μέσος βαθμός.</li>\n",
    "    <li>Η κατανομή του συντελεστή ομαδοποίησης και ο μέσος συντελεστής ομαδοποίησης.</li>\n",
    "    <li>Το μέσο μήκος μονοπατιού.</li>\n",
    "</ol>\n",
    "<p style=text-align:justify>Να οπτικοποιηθεί το δίκτυο. Να συγκριθούν τα αποτελέσματα σε σχέση με αυτά των συνθετικών τοπολογιών. Να χαρακτηρίσετε τον τύπο της τοπολογίας με βάση τους τύπους δικτύων που εξετάστηκαν στις ενότητες B, Γ.</p>"
   ]
  },
  {
   "cell_type": "code",
   "execution_count": 55,
   "metadata": {},
   "outputs": [],
   "source": [
    "#read csv\n",
    "import csv\n",
    "G_got=nx.Graph() #the graph of the GOT characters\n",
    "with open('got.txt') as csv_file:\n",
    "    csv_reader = csv.reader(csv_file, delimiter=',')\n",
    "    line_count = 0\n",
    "    for row in csv_reader:\n",
    "            G_got.add_edge(row[0],row[1],weight=row[2])\n",
    "            line_count += 1"
   ]
  },
  {
   "cell_type": "markdown",
   "metadata": {},
   "source": [
    "#### Ποιοι ήταν οι 5 κεντρικότεροι χαρακτήρες του πρώτου κύκλου επεισοδίων ως προς το βαθμό, την εγγύτητα και την ενδιαμεσικότητα ? "
   ]
  }
 ],
 "metadata": {
  "kernelspec": {
   "display_name": "Python 3",
   "language": "python",
   "name": "python3"
  },
  "language_info": {
   "codemirror_mode": {
    "name": "ipython",
    "version": 3
   },
   "file_extension": ".py",
   "mimetype": "text/x-python",
   "name": "python",
   "nbconvert_exporter": "python",
   "pygments_lexer": "ipython3",
   "version": "3.8.8"
  }
 },
 "nbformat": 4,
 "nbformat_minor": 2
}
